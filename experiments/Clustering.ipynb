{
 "metadata": {
  "name": "Clustering"
 },
 "nbformat": 3,
 "nbformat_minor": 0,
 "worksheets": [
  {
   "cells": [
    {
     "cell_type": "code",
     "collapsed": false,
     "input": [
      "import sys\n",
      "sys.path.append('../../')\n",
      "from sketchrec import image_template, imageio, grouping, utilities\n",
      "from sklearn.cluster import affinity_propagation, DBSCAN\n",
      "import numpy as np\n",
      "\n",
      "%load_ext autoreload\n",
      "%autoreload 2\n",
      "\n",
      "strokefile = 'Homework6-Problem1-text'\n",
      "page = pagedata.PageData(strokefile, labeled=True)\n",
      "page.compute_recognition_data()\n",
      "temps = page.image_templates"
     ],
     "language": "python",
     "metadata": {},
     "outputs": [],
     "prompt_number": 46
    },
    {
     "cell_type": "code",
     "collapsed": false,
     "input": [
      "d_matrix = image_template.distance_matrix(temps)\n",
      "#af = AffinityPropagation(preference=-1.0).fit(d_matrix)\n",
      "(centers, labels) = affinity_propagation(d_matrix, -0.5)\n",
      "print centers, labels"
     ],
     "language": "python",
     "metadata": {},
     "outputs": [
      {
       "output_type": "stream",
       "stream": "stdout",
       "text": [
        "[ 21  91 146] [1 1 1 1 1 2 1 0 1 1 0 1 1 1 2 1 0 2 1 0 1 0 0 1 1 1 2 2 1 2 1 1 1 1 1 1 1\n",
        " 1 2 2 2 1 1 1 2 1 1 1 1 1 1 1 1 1 2 2 1 1 0 1 2 1 0 1 0 2 1 1 1 2 1 1 2 1\n",
        " 1 1 1 1 1 2 1 0 1 1 2 2 1 1 2 2 0 1 1 1 1 1 2 2 1 2 1 2 1 1 2 1 1 0 2 2 1\n",
        " 2 1 2 2 1 1 1 0 1 1 1 1 1 1 1 1 1 1 2 1 1 1 1 1 2 2 0 1 1 1 2 1 2 1 1 2 1\n",
        " 1 1 1 1 1 2 1 0 1 1 0 1 1]\n"
       ]
      }
     ],
     "prompt_number": 47
    },
    {
     "cell_type": "code",
     "collapsed": false,
     "input": [
      "db = DBSCAN().fit(d_matrix)\n",
      "print db.core_sample_indices_"
     ],
     "language": "python",
     "metadata": {},
     "outputs": [
      {
       "output_type": "stream",
       "stream": "stdout",
       "text": [
        "[131, 0, 34, 50, 51, 57, 154, 124, 132, 48, 149, 13, 87, 139, 147, 146, 37, 123, 145, 152, 2, 4, 8, 9, 11, 12, 18, 24, 30, 41, 46, 49, 52, 56, 61, 63, 68, 75, 78, 83, 94, 100, 102, 105, 116, 117, 119, 120, 121, 122, 127, 128, 133, 138, 140, 142, 144, 156, 159, 160, 32, 115, 20, 28, 43, 59, 150, 3, 5, 17, 25, 27, 31, 33, 35, 36, 39, 42, 45, 47, 69, 70, 72, 76, 77, 79, 82, 85, 95, 103, 106, 108, 109, 110, 126, 129, 143, 148, 151, 157, 92, 15, 66, 74, 98, 130, 1, 6, 26, 38, 40, 71, 86, 89, 101, 104, 134, 141, 111, 80, 112, 96, 23, 67, 93, 84, 97, 14, 54, 65, 29, 153, 88, 114, 135, 136, 44, 99, 113, 81, 7, 137, 19, 22, 62, 10, 16, 107, 118, 158, 90, 64, 155, 58, 91]\n"
       ]
      }
     ],
     "prompt_number": 52
    },
    {
     "cell_type": "code",
     "collapsed": false,
     "input": [],
     "language": "python",
     "metadata": {},
     "outputs": []
    }
   ],
   "metadata": {}
  }
 ]
}