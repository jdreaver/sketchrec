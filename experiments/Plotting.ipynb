{
 "metadata": {
  "name": "Plotting"
 },
 "nbformat": 3,
 "nbformat_minor": 0,
 "worksheets": [
  {
   "cells": [
    {
     "cell_type": "code",
     "collapsed": false,
     "input": [
      "import matplotlib.pyplot as plt\n",
      "import sys\n",
      "sys.path.append('../../')\n",
      "from sketchrec.imagerec import imageio\n",
      "\n",
      "%load_ext autoreload\n",
      "%autoreload 2\n",
      "\n",
      "strokefile = 'Homework6-Problem1-text.iv'\n",
      "groupfile = 'Homework6-Problem1-text.grp'\n",
      "labelfile = 'Homework6-Problem1-text.lbl'\n",
      "templates = imageio.single_stroke_unlabeled_file(strokefile)"
     ],
     "language": "python",
     "metadata": {},
     "outputs": [],
     "prompt_number": 2
    },
    {
     "cell_type": "code",
     "collapsed": false,
     "input": [
      "handles = []\n",
      "for temp in templates:\n",
      "    (x, y) = zip(*temp.points)\n",
      "    handles.append(plt.plot(x,y, 'k'))\n",
      "plt.gca().invert_yaxis()\n",
      "plt.axis('equal')\n",
      "plt.show()"
     ],
     "language": "python",
     "metadata": {},
     "outputs": [],
     "prompt_number": 4
    },
    {
     "cell_type": "code",
     "collapsed": false,
     "input": [],
     "language": "python",
     "metadata": {},
     "outputs": []
    }
   ],
   "metadata": {}
  }
 ]
}