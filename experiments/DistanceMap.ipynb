{
 "metadata": {
  "name": "Distance Map"
 },
 "nbformat": 3,
 "nbformat_minor": 0,
 "worksheets": [
  {
   "cells": [
    {
     "cell_type": "code",
     "collapsed": false,
     "input": [
      "import scipy\n",
      "from scipy import ndimage\n",
      "import numpy as np"
     ],
     "language": "python",
     "metadata": {},
     "outputs": [],
     "prompt_number": 7
    },
    {
     "cell_type": "code",
     "collapsed": false,
     "input": [
      "a = 1 - np.array(([0,0,1,0], \n",
      "                  [1,0,0,0], \n",
      "                  [0,0,0,0], \n",
      "                  [0,1,0,0]))"
     ],
     "language": "python",
     "metadata": {},
     "outputs": [],
     "prompt_number": 8
    },
    {
     "cell_type": "code",
     "collapsed": false,
     "input": [
      "ndimage.morphology.distance_transform_edt(a)"
     ],
     "language": "python",
     "metadata": {},
     "outputs": [
      {
       "output_type": "pyout",
       "prompt_number": 9,
       "text": [
        "array([[ 1.        ,  1.        ,  0.        ,  1.        ],\n",
        "       [ 0.        ,  1.        ,  1.        ,  1.41421356],\n",
        "       [ 1.        ,  1.        ,  1.41421356,  2.23606798],\n",
        "       [ 1.        ,  0.        ,  1.        ,  2.        ]])"
       ]
      }
     ],
     "prompt_number": 9
    },
    {
     "cell_type": "code",
     "collapsed": false,
     "input": [],
     "language": "python",
     "metadata": {},
     "outputs": []
    }
   ],
   "metadata": {}
  }
 ]
}