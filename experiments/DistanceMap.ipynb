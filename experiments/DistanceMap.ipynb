{
 "metadata": {
  "name": "DistanceMap"
 },
 "nbformat": 3,
 "nbformat_minor": 0,
 "worksheets": [
  {
   "cells": [
    {
     "cell_type": "code",
     "collapsed": false,
     "input": [
      "import scipy\n",
      "from scipy import ndimage\n",
      "import numpy as np"
     ],
     "language": "python",
     "metadata": {},
     "outputs": [],
     "prompt_number": 1
    },
    {
     "cell_type": "code",
     "collapsed": false,
     "input": [
      "a = 1 - np.array(([0,0,1,0], \n",
      "                  [1,0,0,0], \n",
      "                  [0,0,0,0], \n",
      "                  [0,1,0,0]))"
     ],
     "language": "python",
     "metadata": {},
     "outputs": [],
     "prompt_number": 8
    },
    {
     "cell_type": "code",
     "collapsed": false,
     "input": [
      "ndimage.morphology.distance_transform_edt(a)"
     ],
     "language": "python",
     "metadata": {},
     "outputs": [
      {
       "output_type": "pyout",
       "prompt_number": 9,
       "text": [
        "array([[ 1.        ,  1.        ,  0.        ,  1.        ],\n",
        "       [ 0.        ,  1.        ,  1.        ,  1.41421356],\n",
        "       [ 1.        ,  1.        ,  1.41421356,  2.23606798],\n",
        "       [ 1.        ,  0.        ,  1.        ,  2.        ]])"
       ]
      }
     ],
     "prompt_number": 9
    },
    {
     "cell_type": "heading",
     "level": 2,
     "metadata": {},
     "source": [
      "Resampling"
     ]
    },
    {
     "cell_type": "markdown",
     "metadata": {},
     "source": [
      "It is useful to upsample strokes so the distance map is not too sparse. Given a total arc length $L$ and distance map pixel dimension $D$, "
     ]
    },
    {
     "cell_type": "code",
     "collapsed": false,
     "input": [
      "def full_upsample(old_points):\n",
      "    points = list(old_points[:])\n",
      "    i = 1\n",
      "    while i < len(points):\n",
      "        (dx, dy) = points[i] - points[i - 1]\n",
      "        (absx, absy) = (abs(dx), abs(dy))\n",
      "        (sign_x, sign_y) = (np.sign(dx), np.sign(dy))\n",
      "        print i, len(points), absx, absy, sign_x, sign_y\n",
      "        while absx > 1 or absy > 1:\n",
      "            print absx, absy\n",
      "            if absx > absy:\n",
      "                points.insert(i, points[i - 1] + np.array(([sign_x, 0])))\n",
      "                absx -= 1\n",
      "            elif absx < absy:\n",
      "                points.insert(i, points[i - 1] + np.array(([0, sign_y])))\n",
      "                absy -= 1\n",
      "            else:\n",
      "                points.insert(i, points[i - 1] + np.array(([sign_x, sign_y])))\n",
      "                absx -= 1\n",
      "                absy -= 1\n",
      "            i += 1\n",
      "        i += 1\n",
      "    return points\n",
      "    \n",
      "test_points = np.array(([1,1],[3,4], [0, 4]))\n",
      "print full_upsample(test_points)\n",
      "            "
     ],
     "language": "python",
     "metadata": {},
     "outputs": [
      {
       "output_type": "stream",
       "stream": "stdout",
       "text": [
        "1 3 2 3 1 1\n",
        "2 3\n",
        "2 2\n",
        "4 5 3 0 -1 0\n",
        "3 0\n",
        "2 0\n",
        "[array([1, 1]), array([1, 2]), array([2, 3]), array([3, 4]), array([2, 4]), array([1, 4]), array([0, 4])]\n"
       ]
      }
     ],
     "prompt_number": 4
    },
    {
     "cell_type": "code",
     "collapsed": false,
     "input": [],
     "language": "python",
     "metadata": {},
     "outputs": []
    }
   ],
   "metadata": {}
  }
 ]
}