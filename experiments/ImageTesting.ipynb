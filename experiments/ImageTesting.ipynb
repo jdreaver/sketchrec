{
 "metadata": {
  "name": "ImageTesting"
 },
 "nbformat": 3,
 "nbformat_minor": 0,
 "worksheets": [
  {
   "cells": [
    {
     "cell_type": "code",
     "collapsed": false,
     "input": [
      "import sys\n",
      "sys.path.append('../../')\n",
      "from sketchrec import image_template\n",
      "import numpy as np\n",
      "import matplotlib.pyplot as plt\n",
      "\n",
      "%load_ext autoreload\n",
      "%autoreload 2\n",
      "\n",
      "imtemp = image_template.ImageTemplate"
     ],
     "language": "python",
     "metadata": {},
     "outputs": [],
     "prompt_number": 12
    },
    {
     "cell_type": "code",
     "collapsed": false,
     "input": [
      "single = [[[1,2], [5,6]]]\n",
      "dubs = [[[1,2],[3,4]], [[5,6],[7,8]]]\n",
      "\n",
      "temp_s = image_template.ImageTemplate(single, dim=6)\n",
      "temp_d = image_template.ImageTemplate(dubs, dim=6)"
     ],
     "language": "python",
     "metadata": {},
     "outputs": [],
     "prompt_number": 5
    },
    {
     "cell_type": "code",
     "collapsed": false,
     "input": [
      "print temp_d.distance_map, \"\\n\\n\", temp_s.rasterized_points, \"\\n\\n\"\n",
      "print temp_s.distance_map, \"\\n\\n\", temp_d.rasterized_points\n",
      "print \"Hauss should be:\", (0.0 + 1.41421356 + 2.82842712 + 0)/(4 * np.sqrt(2) * temp_d.dimension)"
     ],
     "language": "python",
     "metadata": {},
     "outputs": [
      {
       "output_type": "stream",
       "stream": "stdout",
       "text": [
        "[[ 0.          1.          1.41421356  2.23606798  3.16227766  3.60555128]\n",
        " [ 1.          0.          1.          2.          2.23606798  2.82842712]\n",
        " [ 1.41421356  1.          1.41421356  1.          1.41421356  2.23606798]\n",
        " [ 2.23606798  2.          1.          0.          1.          2.        ]\n",
        " [ 3.16227766  2.23606798  1.41421356  1.          1.41421356  1.        ]\n",
        " [ 3.60555128  2.82842712  2.23606798  2.          1.          0.        ]] \n",
        "\n",
        "[[0 0]\n",
        " [5 5]] \n",
        "\n",
        "\n",
        "[[ 0.          1.          2.          3.          4.          5.        ]\n",
        " [ 1.          1.41421356  2.23606798  3.16227766  4.12310563  4.        ]\n",
        " [ 2.          2.23606798  2.82842712  3.60555128  3.16227766  3.        ]\n",
        " [ 3.          3.16227766  3.60555128  2.82842712  2.23606798  2.        ]\n",
        " [ 4.          4.12310563  3.16227766  2.23606798  1.41421356  1.        ]\n",
        " [ 5.          4.          3.          2.          1.          0.        ]] \n",
        "\n",
        "[[0 0]\n",
        " [1 1]\n",
        " [3 3]\n",
        " [5 5]]\n",
        "Hauss should be: 0.12499999979\n"
       ]
      }
     ],
     "prompt_number": 6
    },
    {
     "cell_type": "heading",
     "level": 1,
     "metadata": {},
     "source": [
      "Image Recognizer Modifications"
     ]
    },
    {
     "cell_type": "code",
     "collapsed": false,
     "input": [
      "test_points = np.array(([1,1], [3,4], [0, 4], [-3, -3]))\n",
      "print image_template.full_upsample(test_points)\n",
      "np.array_equal(image_template.full_upsample(test_points),\n",
      "                          [[ 1, 1], [1, 2], [2, 3], [3, 4], [2, 4],\n",
      "                           [1, 4], [0, 4], [0, 3], [0, 2], [0, 1],\n",
      "                           [0, 0], [-1, -1], [-2, -2], [-3, -3]])"
     ],
     "language": "python",
     "metadata": {},
     "outputs": [
      {
       "output_type": "stream",
       "stream": "stdout",
       "text": [
        "[[ 1  1]\n",
        " [ 1  2]\n",
        " [ 2  3]\n",
        " [ 3  4]\n",
        " [ 2  4]\n",
        " [ 1  4]\n",
        " [ 0  4]\n",
        " [ 0  3]\n",
        " [ 0  2]\n",
        " [ 0  1]\n",
        " [ 0  0]\n",
        " [-1 -1]\n",
        " [-2 -2]\n",
        " [-3 -3]]\n"
       ]
      },
      {
       "output_type": "pyout",
       "prompt_number": 7,
       "text": [
        "True"
       ]
      }
     ],
     "prompt_number": 7
    },
    {
     "cell_type": "code",
     "collapsed": false,
     "input": [
      "single = [[[1,2], [5,6]]]\n",
      "dubs = [[[1,2],[3,3]], [[5,6],[10,10]]]\n",
      "temp_s = image_template.ImageTemplate(single, dim=6)\n",
      "temp_s.name = \"temp_s\"\n",
      "temp_d = image_template.ImageTemplate(dubs, dim=6)\n",
      "temp_d.name = \"temp_d\"\n",
      "print temp_s.rasterized_points, temp_d.rasterized_points\n",
      "print image_template.list_classification(temp_s, [temp_s, temp_d])"
     ],
     "language": "python",
     "metadata": {},
     "outputs": [
      {
       "output_type": "stream",
       "stream": "stdout",
       "text": [
        "[[0 0]\n",
        " [1 1]\n",
        " [2 2]\n",
        " [3 3]\n",
        " [4 4]\n",
        " [5 5]] [[0 0]\n",
        " [1 0]\n",
        " [1 1]\n",
        " [2 2]\n",
        " [3 2]\n",
        " [4 3]\n",
        " [5 4]]\n",
        "temp_s\n"
       ]
      }
     ],
     "prompt_number": 25
    },
    {
     "cell_type": "code",
     "collapsed": false,
     "input": [],
     "language": "python",
     "metadata": {},
     "outputs": []
    }
   ],
   "metadata": {}
  }
 ]
}