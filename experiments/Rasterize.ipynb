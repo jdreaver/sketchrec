{
 "metadata": {
  "name": "Rasterize"
 },
 "nbformat": 3,
 "nbformat_minor": 0,
 "worksheets": [
  {
   "cells": [
    {
     "cell_type": "code",
     "collapsed": false,
     "input": [
      "import scipy\n",
      "from scipy import ndimage\n",
      "import numpy as np"
     ],
     "language": "python",
     "metadata": {},
     "outputs": [],
     "prompt_number": 1
    },
    {
     "cell_type": "code",
     "collapsed": false,
     "input": [
      "points = np.array(([10,11],[13,11],[16,12],[20,11],[20,16],[21,21],[22,25])).astype(float)\n",
      "centroid = np.mean(points, axis=0)\n",
      "print centroid"
     ],
     "language": "python",
     "metadata": {},
     "outputs": [
      {
       "output_type": "stream",
       "stream": "stdout",
       "text": [
        "[ 17.42857143  15.28571429]\n"
       ]
      }
     ],
     "prompt_number": 26
    },
    {
     "cell_type": "code",
     "collapsed": false,
     "input": [
      "centered = np.array(points - centroid)\n",
      "print centered"
     ],
     "language": "python",
     "metadata": {},
     "outputs": [
      {
       "output_type": "stream",
       "stream": "stdout",
       "text": [
        "[[-7.42857143 -4.28571429]\n",
        " [-4.42857143 -4.28571429]\n",
        " [-1.42857143 -3.28571429]\n",
        " [ 2.57142857 -4.28571429]\n",
        " [ 2.57142857  0.71428571]\n",
        " [ 3.57142857  5.71428571]\n",
        " [ 4.57142857  9.71428571]]\n"
       ]
      }
     ],
     "prompt_number": 27
    },
    {
     "cell_type": "code",
     "collapsed": false,
     "input": [
      "def bounding_box(iterable):\n",
      "    min_x, min_y = np.min(iterable, axis=0)\n",
      "    max_x, max_y = np.max(iterable, axis=0)\n",
      "    return np.array([(min_x, min_y), (max_x, min_y), (max_x, max_y), (min_x, max_y)])"
     ],
     "language": "python",
     "metadata": {},
     "outputs": [],
     "prompt_number": 28
    },
    {
     "cell_type": "code",
     "collapsed": false,
     "input": [
      "bb = bounding_box(points)\n",
      "print bb"
     ],
     "language": "python",
     "metadata": {},
     "outputs": [
      {
       "output_type": "stream",
       "stream": "stdout",
       "text": [
        "[[ 10.  11.]\n",
        " [ 22.  11.]\n",
        " [ 22.  25.]\n",
        " [ 10.  25.]]\n"
       ]
      }
     ],
     "prompt_number": 29
    },
    {
     "cell_type": "code",
     "collapsed": false,
     "input": [
      "def inflate_points(points, min_box_dim=48):\n",
      "    bb = bounding_box(points)\n",
      "    width = bb[1][0] - bb[0][0]\n",
      "    height = bb[2][1] - bb[1][1]\n",
      "    moved = points - bb[0\n",
      "    inflation = np.min([(min_box_dim-1)/width, (min_box_dim-1)/height]); print inflation\n",
      "    inflated = np.array(map(lambda point: np.dot(np.diag([inflation]*2), point), moved))\n",
      "    print inflated\n",
      "    return inflated.astype(int)\n",
      "inflated = inflate_points(points, 10)\n",
      "print inflated"
     ],
     "language": "python",
     "metadata": {},
     "outputs": [
      {
       "output_type": "stream",
       "stream": "stdout",
       "text": [
        "0.642857142857\n",
        "[[ 0.    0.  ]\n",
        " [ 1.93  0.  ]\n",
        " [ 3.86  0.64]\n",
        " [ 6.43  0.  ]\n",
        " [ 6.43  3.21]\n",
        " [ 7.07  6.43]\n",
        " [ 7.71  9.  ]]\n",
        "[[0 0]\n",
        " [1 0]\n",
        " [3 0]\n",
        " [6 0]\n",
        " [6 3]\n",
        " [7 6]\n",
        " [7 9]]\n"
       ]
      }
     ],
     "prompt_number": 44
    },
    {
     "cell_type": "code",
     "collapsed": false,
     "input": [
      "bb = bounding_box(inflated)\n",
      "print \"Width: %d\\nHeight: %d\" % (bb[1][0] - bb[0][0],bb[2][1] - bb[1][1])"
     ],
     "language": "python",
     "metadata": {},
     "outputs": [
      {
       "output_type": "stream",
       "stream": "stdout",
       "text": [
        "Width: 7\n",
        "Height: 9\n"
       ]
      }
     ],
     "prompt_number": 41
    },
    {
     "cell_type": "code",
     "collapsed": false,
     "input": [
      "grid = np.zeros([10,10])\n",
      "for point in inflated:\n",
      "    grid[point[0]][point[1]] = 1\n",
      "dist_map = ndimage.morphology.distance_transform_edt(1 - grid)\n",
      "np.set_printoptions(precision=2)\n",
      "print grid\n",
      "print dist_map"
     ],
     "language": "python",
     "metadata": {},
     "outputs": [
      {
       "output_type": "stream",
       "stream": "stdout",
       "text": [
        "[[ 1.  0.  0.  0.  0.  0.  0.  0.  0.  0.]\n",
        " [ 1.  0.  0.  0.  0.  0.  0.  0.  0.  0.]\n",
        " [ 0.  0.  0.  0.  0.  0.  0.  0.  0.  0.]\n",
        " [ 1.  0.  0.  0.  0.  0.  0.  0.  0.  0.]\n",
        " [ 0.  0.  0.  0.  0.  0.  0.  0.  0.  0.]\n",
        " [ 0.  0.  0.  0.  0.  0.  0.  0.  0.  0.]\n",
        " [ 1.  0.  0.  1.  0.  0.  0.  0.  0.  0.]\n",
        " [ 0.  0.  0.  0.  0.  0.  1.  0.  0.  1.]\n",
        " [ 0.  0.  0.  0.  0.  0.  0.  0.  0.  0.]\n",
        " [ 0.  0.  0.  0.  0.  0.  0.  0.  0.  0.]]\n",
        "[[ 0.    1.    2.    3.    4.    5.    6.    7.    7.07  7.  ]\n",
        " [ 0.    1.    2.    3.    4.    5.    5.83  6.08  6.08  6.  ]\n",
        " [ 1.    1.41  2.24  3.16  4.12  4.47  5.    5.1   5.1   5.  ]\n",
        " [ 0.    1.    2.    3.    3.16  3.61  4.    4.12  4.12  4.  ]\n",
        " [ 1.    1.41  2.24  2.    2.24  2.83  3.    3.16  3.16  3.  ]\n",
        " [ 1.    1.41  1.41  1.    1.41  2.24  2.    2.24  2.24  2.  ]\n",
        " [ 0.    1.    1.    0.    1.    1.41  1.    1.41  1.41  1.  ]\n",
        " [ 1.    1.41  1.41  1.    1.41  1.    0.    1.    1.    0.  ]\n",
        " [ 2.    2.24  2.24  2.    2.24  1.41  1.    1.41  1.41  1.  ]\n",
        " [ 3.    3.16  3.16  3.    2.83  2.24  2.    2.24  2.24  2.  ]]\n"
       ]
      }
     ],
     "prompt_number": 42
    },
    {
     "cell_type": "code",
     "collapsed": false,
     "input": [],
     "language": "python",
     "metadata": {},
     "outputs": []
    }
   ],
   "metadata": {}
  }
 ]
}