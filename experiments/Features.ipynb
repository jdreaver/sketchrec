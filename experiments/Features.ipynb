{
 "metadata": {
  "name": "Features"
 },
 "nbformat": 3,
 "nbformat_minor": 0,
 "worksheets": [
  {
   "cells": [
    {
     "cell_type": "code",
     "collapsed": false,
     "input": [
      "import sys\n",
      "sys.path.append('../../')\n",
      "from sketchrec.imagerec import imageio, grouping\n",
      "import numpy as np\n",
      "from sketchrec.imagerec.utilities import *\n",
      "\n",
      "%load_ext autoreload\n",
      "%autoreload 2\n",
      "\n",
      "strokefile = 'Homework6-Problem1-text.iv'\n",
      "templates = imageio.single_stroke_unlabeled_file(strokefile)"
     ],
     "language": "python",
     "metadata": {},
     "outputs": [],
     "prompt_number": 15
    },
    {
     "cell_type": "code",
     "collapsed": false,
     "input": [
      "features = grouping.compute_features_equation(templates)\n",
      "print len(features)"
     ],
     "language": "python",
     "metadata": {},
     "outputs": [
      {
       "output_type": "stream",
       "stream": "stdout",
       "text": [
        "95\n"
       ]
      }
     ],
     "prompt_number": 35
    },
    {
     "cell_type": "code",
     "collapsed": false,
     "input": [
      "lines = grouping.equation_lines(templates)\n",
      "print len(templates)\n",
      "print len(lines)\n",
      "np.max([v for line in lines for v in line])"
     ],
     "language": "python",
     "metadata": {},
     "outputs": [
      {
       "output_type": "stream",
       "stream": "stdout",
       "text": [
        "223\n",
        "17\n"
       ]
      },
      {
       "output_type": "pyout",
       "prompt_number": 33,
       "text": [
        "222"
       ]
      }
     ],
     "prompt_number": 33
    },
    {
     "cell_type": "code",
     "collapsed": false,
     "input": [
      "boxes = np.array([bounding_box(t.points) for t in templates])\n",
      "boxes"
     ],
     "language": "python",
     "metadata": {},
     "outputs": [],
     "prompt_number": 12
    },
    {
     "cell_type": "code",
     "collapsed": false,
     "input": [],
     "language": "python",
     "metadata": {},
     "outputs": []
    }
   ],
   "metadata": {}
  }
 ]
}